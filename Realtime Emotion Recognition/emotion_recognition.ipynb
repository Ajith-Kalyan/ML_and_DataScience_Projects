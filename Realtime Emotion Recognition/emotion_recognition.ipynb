{
 "cells": [
  {
   "cell_type": "code",
   "execution_count": 16,
   "metadata": {
    "collapsed": true
   },
   "outputs": [],
   "source": [
    "#importing required packages\n",
    "import tensorflow\n",
    "import cv2\n",
    "from keras.models import Sequential\n",
    "from keras.layers import Conv2D, MaxPooling2D, Dense, Dropout, Flatten\n",
    "from keras.optimizers import Adam\n",
    "from keras.preprocessing.image import ImageDataGenerator"
   ]
  },
  {
   "cell_type": "code",
   "execution_count": 4,
   "outputs": [],
   "source": [
    "# Rescale the input image using ImageDataGenerator\n",
    "\n",
    "train_data_gen = ImageDataGenerator(rescale=1./255)\n",
    "validation_data_gen = ImageDataGenerator(rescale=1./255)"
   ],
   "metadata": {
    "collapsed": false,
    "pycharm": {
     "name": "#%%\n"
    }
   }
  },
  {
   "cell_type": "code",
   "execution_count": 7,
   "outputs": [
    {
     "name": "stdout",
     "output_type": "stream",
     "text": [
      "Found 28709 images belonging to 7 classes.\n",
      "Found 7178 images belonging to 7 classes.\n"
     ]
    }
   ],
   "source": [
    "# preprocess all training images\n",
    "\n",
    "train_generator = train_data_gen.flow_from_directory(\n",
    "    'data/train',\n",
    "    target_size=(48,48),\n",
    "    batch_size=64,\n",
    "    color_mode=\"grayscale\",\n",
    "    class_mode='categorical'\n",
    ")\n",
    "\n",
    "#preprocessing test images\n",
    "validation_generator = validation_data_gen.flow_from_directory(\n",
    "    'data/test',\n",
    "    target_size=(48,48),\n",
    "    batch_size=64,\n",
    "    color_mode='grayscale',\n",
    "    class_mode='categorical'\n",
    ")"
   ],
   "metadata": {
    "collapsed": false,
    "pycharm": {
     "name": "#%%\n"
    }
   }
  },
  {
   "cell_type": "code",
   "execution_count": 9,
   "outputs": [],
   "source": [
    "#model creation\n",
    "\n",
    "model1 = Sequential()\n",
    "\n",
    "model1.add(Conv2D(32, (3,3), activation= 'relu', input_shape=(48,48,1)))\n",
    "model1.add(Conv2D(64, (3,3), activation='relu'))\n",
    "model1.add(MaxPooling2D((2,2)))\n",
    "model1.add(Dropout(0.25))\n",
    "\n",
    "model1.add(Conv2D(128, (3,3), activation='relu'))\n",
    "model1.add(MaxPooling2D(2,2))\n",
    "model1.add(Conv2D(128, (3,3), activation='relu'))\n",
    "model1.add(MaxPooling2D(2,2))\n",
    "model1.add(Dropout(0.25))\n",
    "\n",
    "model1.add(Flatten())\n",
    "model1.add(Dense(1024, activation='relu'))\n",
    "model1.add(Dropout(0.5))\n",
    "model1.add(Dense(7, activation='softmax'))"
   ],
   "metadata": {
    "collapsed": false,
    "pycharm": {
     "name": "#%%\n"
    }
   }
  },
  {
   "cell_type": "code",
   "execution_count": 10,
   "outputs": [
    {
     "name": "stdout",
     "output_type": "stream",
     "text": [
      "Model: \"sequential_1\"\n",
      "_________________________________________________________________\n",
      " Layer (type)                Output Shape              Param #   \n",
      "=================================================================\n",
      " conv2d_2 (Conv2D)           (None, 46, 46, 32)        320       \n",
      "                                                                 \n",
      " conv2d_3 (Conv2D)           (None, 44, 44, 64)        18496     \n",
      "                                                                 \n",
      " max_pooling2d (MaxPooling2D  (None, 22, 22, 64)       0         \n",
      " )                                                               \n",
      "                                                                 \n",
      " dropout (Dropout)           (None, 22, 22, 64)        0         \n",
      "                                                                 \n",
      " conv2d_4 (Conv2D)           (None, 20, 20, 128)       73856     \n",
      "                                                                 \n",
      " max_pooling2d_1 (MaxPooling  (None, 10, 10, 128)      0         \n",
      " 2D)                                                             \n",
      "                                                                 \n",
      " conv2d_5 (Conv2D)           (None, 8, 8, 128)         147584    \n",
      "                                                                 \n",
      " max_pooling2d_2 (MaxPooling  (None, 4, 4, 128)        0         \n",
      " 2D)                                                             \n",
      "                                                                 \n",
      " dropout_1 (Dropout)         (None, 4, 4, 128)         0         \n",
      "                                                                 \n",
      " flatten (Flatten)           (None, 2048)              0         \n",
      "                                                                 \n",
      " dense (Dense)               (None, 1024)              2098176   \n",
      "                                                                 \n",
      " dropout_2 (Dropout)         (None, 1024)              0         \n",
      "                                                                 \n",
      " dense_1 (Dense)             (None, 7)                 7175      \n",
      "                                                                 \n",
      "=================================================================\n",
      "Total params: 2,345,607\n",
      "Trainable params: 2,345,607\n",
      "Non-trainable params: 0\n",
      "_________________________________________________________________\n"
     ]
    }
   ],
   "source": [
    "model1.summary()"
   ],
   "metadata": {
    "collapsed": false,
    "pycharm": {
     "name": "#%%\n"
    }
   }
  },
  {
   "cell_type": "code",
   "execution_count": 14,
   "outputs": [],
   "source": [
    "cv2.ocl.setUseOpenCL(False)\n",
    "model1.compile(\n",
    "    loss = 'categorical_crossentropy',\n",
    "    optimizer=Adam(lr =0.0001, decay = 1e-4),\n",
    "    metrics= ['accuracy']\n",
    ")"
   ],
   "metadata": {
    "collapsed": false,
    "pycharm": {
     "name": "#%%\n"
    }
   }
  },
  {
   "cell_type": "code",
   "execution_count": 17,
   "outputs": [],
   "source": [
    "early_stopping_callbacks = tensorflow.keras.callbacks.EarlyStopping(patience=15, restore_best_weights=True, verbose=1)"
   ],
   "metadata": {
    "collapsed": false,
    "pycharm": {
     "name": "#%%\n"
    }
   }
  },
  {
   "cell_type": "code",
   "execution_count": 15,
   "outputs": [
    {
     "name": "stdout",
     "output_type": "stream",
     "text": [
      "Epoch 1/50\n",
      "448/448 [==============================] - 16s 21ms/step - loss: 1.8042 - accuracy: 0.2590 - val_loss: 1.7195 - val_accuracy: 0.3463\n",
      "Epoch 2/50\n",
      "448/448 [==============================] - 9s 19ms/step - loss: 1.6383 - accuracy: 0.3601 - val_loss: 1.5558 - val_accuracy: 0.4118\n",
      "Epoch 3/50\n",
      "448/448 [==============================] - 9s 19ms/step - loss: 1.5470 - accuracy: 0.4061 - val_loss: 1.4840 - val_accuracy: 0.4382\n",
      "Epoch 4/50\n",
      "448/448 [==============================] - 9s 20ms/step - loss: 1.4825 - accuracy: 0.4329 - val_loss: 1.4326 - val_accuracy: 0.4579\n",
      "Epoch 5/50\n",
      "448/448 [==============================] - 9s 19ms/step - loss: 1.4332 - accuracy: 0.4574 - val_loss: 1.3846 - val_accuracy: 0.4746\n",
      "Epoch 6/50\n",
      "448/448 [==============================] - 9s 19ms/step - loss: 1.3914 - accuracy: 0.4709 - val_loss: 1.3590 - val_accuracy: 0.4798\n",
      "Epoch 7/50\n",
      "448/448 [==============================] - 9s 20ms/step - loss: 1.3553 - accuracy: 0.4848 - val_loss: 1.3194 - val_accuracy: 0.4989\n",
      "Epoch 8/50\n",
      "448/448 [==============================] - 9s 20ms/step - loss: 1.3139 - accuracy: 0.5009 - val_loss: 1.2937 - val_accuracy: 0.5071\n",
      "Epoch 9/50\n",
      "448/448 [==============================] - 9s 19ms/step - loss: 1.2843 - accuracy: 0.5134 - val_loss: 1.2858 - val_accuracy: 0.5148\n",
      "Epoch 10/50\n",
      "448/448 [==============================] - 9s 20ms/step - loss: 1.2570 - accuracy: 0.5213 - val_loss: 1.2553 - val_accuracy: 0.5230\n",
      "Epoch 11/50\n",
      "448/448 [==============================] - 9s 20ms/step - loss: 1.2341 - accuracy: 0.5342 - val_loss: 1.2351 - val_accuracy: 0.5347\n",
      "Epoch 12/50\n",
      "448/448 [==============================] - 9s 20ms/step - loss: 1.2067 - accuracy: 0.5433 - val_loss: 1.2263 - val_accuracy: 0.5359\n",
      "Epoch 13/50\n",
      "448/448 [==============================] - 9s 20ms/step - loss: 1.1837 - accuracy: 0.5565 - val_loss: 1.2047 - val_accuracy: 0.5484\n",
      "Epoch 14/50\n",
      "448/448 [==============================] - 9s 20ms/step - loss: 1.1631 - accuracy: 0.5640 - val_loss: 1.1972 - val_accuracy: 0.5498\n",
      "Epoch 15/50\n",
      "448/448 [==============================] - 9s 19ms/step - loss: 1.1452 - accuracy: 0.5719 - val_loss: 1.1859 - val_accuracy: 0.5554\n",
      "Epoch 16/50\n",
      "448/448 [==============================] - 9s 20ms/step - loss: 1.1231 - accuracy: 0.5789 - val_loss: 1.1775 - val_accuracy: 0.5585\n",
      "Epoch 17/50\n",
      "448/448 [==============================] - 9s 20ms/step - loss: 1.1025 - accuracy: 0.5858 - val_loss: 1.1680 - val_accuracy: 0.5615\n",
      "Epoch 18/50\n",
      "448/448 [==============================] - 9s 19ms/step - loss: 1.0921 - accuracy: 0.5954 - val_loss: 1.1610 - val_accuracy: 0.5619\n",
      "Epoch 19/50\n",
      "448/448 [==============================] - 9s 20ms/step - loss: 1.0789 - accuracy: 0.5992 - val_loss: 1.1618 - val_accuracy: 0.5617\n",
      "Epoch 20/50\n",
      "448/448 [==============================] - 9s 19ms/step - loss: 1.0627 - accuracy: 0.6057 - val_loss: 1.1487 - val_accuracy: 0.5674\n",
      "Epoch 21/50\n",
      "448/448 [==============================] - 9s 20ms/step - loss: 1.0442 - accuracy: 0.6130 - val_loss: 1.1436 - val_accuracy: 0.5744\n",
      "Epoch 22/50\n",
      "448/448 [==============================] - 9s 21ms/step - loss: 1.0309 - accuracy: 0.6201 - val_loss: 1.1358 - val_accuracy: 0.5723\n",
      "Epoch 23/50\n",
      "448/448 [==============================] - 9s 20ms/step - loss: 1.0162 - accuracy: 0.6266 - val_loss: 1.1285 - val_accuracy: 0.5783\n",
      "Epoch 24/50\n",
      "448/448 [==============================] - 9s 20ms/step - loss: 1.0059 - accuracy: 0.6271 - val_loss: 1.1290 - val_accuracy: 0.5781\n",
      "Epoch 25/50\n",
      "448/448 [==============================] - 10s 21ms/step - loss: 0.9888 - accuracy: 0.6337 - val_loss: 1.1319 - val_accuracy: 0.5794\n",
      "Epoch 26/50\n",
      "448/448 [==============================] - 9s 20ms/step - loss: 0.9725 - accuracy: 0.6402 - val_loss: 1.1289 - val_accuracy: 0.5815\n",
      "Epoch 27/50\n",
      "448/448 [==============================] - 9s 20ms/step - loss: 0.9581 - accuracy: 0.6464 - val_loss: 1.1287 - val_accuracy: 0.5843\n",
      "Epoch 28/50\n",
      "448/448 [==============================] - 10s 21ms/step - loss: 0.9478 - accuracy: 0.6490 - val_loss: 1.1202 - val_accuracy: 0.5854\n",
      "Epoch 29/50\n",
      "448/448 [==============================] - 9s 20ms/step - loss: 0.9352 - accuracy: 0.6544 - val_loss: 1.1118 - val_accuracy: 0.5901\n",
      "Epoch 30/50\n",
      "448/448 [==============================] - 9s 20ms/step - loss: 0.9286 - accuracy: 0.6599 - val_loss: 1.1123 - val_accuracy: 0.5893\n",
      "Epoch 31/50\n",
      "448/448 [==============================] - 9s 20ms/step - loss: 0.9150 - accuracy: 0.6641 - val_loss: 1.1045 - val_accuracy: 0.5905\n",
      "Epoch 32/50\n",
      "448/448 [==============================] - 9s 20ms/step - loss: 0.9022 - accuracy: 0.6685 - val_loss: 1.1143 - val_accuracy: 0.5903\n",
      "Epoch 33/50\n",
      "448/448 [==============================] - 9s 20ms/step - loss: 0.8921 - accuracy: 0.6737 - val_loss: 1.1119 - val_accuracy: 0.5951\n",
      "Epoch 34/50\n",
      "448/448 [==============================] - 9s 20ms/step - loss: 0.8864 - accuracy: 0.6735 - val_loss: 1.1038 - val_accuracy: 0.5984\n",
      "Epoch 35/50\n",
      "448/448 [==============================] - 9s 20ms/step - loss: 0.8701 - accuracy: 0.6836 - val_loss: 1.1010 - val_accuracy: 0.5995\n",
      "Epoch 36/50\n",
      "448/448 [==============================] - 9s 20ms/step - loss: 0.8607 - accuracy: 0.6874 - val_loss: 1.1029 - val_accuracy: 0.5957\n",
      "Epoch 37/50\n",
      "448/448 [==============================] - 9s 20ms/step - loss: 0.8479 - accuracy: 0.6936 - val_loss: 1.1016 - val_accuracy: 0.5993\n",
      "Epoch 38/50\n",
      "448/448 [==============================] - 9s 20ms/step - loss: 0.8358 - accuracy: 0.6932 - val_loss: 1.0970 - val_accuracy: 0.6007\n",
      "Epoch 39/50\n",
      "448/448 [==============================] - 9s 20ms/step - loss: 0.8275 - accuracy: 0.7003 - val_loss: 1.0981 - val_accuracy: 0.6002\n",
      "Epoch 40/50\n",
      "448/448 [==============================] - 9s 20ms/step - loss: 0.8138 - accuracy: 0.7033 - val_loss: 1.1039 - val_accuracy: 0.6017\n",
      "Epoch 41/50\n",
      "448/448 [==============================] - 9s 20ms/step - loss: 0.8041 - accuracy: 0.7077 - val_loss: 1.0961 - val_accuracy: 0.5970\n",
      "Epoch 42/50\n",
      "448/448 [==============================] - 9s 20ms/step - loss: 0.8017 - accuracy: 0.7073 - val_loss: 1.1062 - val_accuracy: 0.6021\n",
      "Epoch 43/50\n",
      "448/448 [==============================] - 9s 20ms/step - loss: 0.7873 - accuracy: 0.7135 - val_loss: 1.0958 - val_accuracy: 0.6042\n",
      "Epoch 44/50\n",
      "448/448 [==============================] - 9s 20ms/step - loss: 0.7803 - accuracy: 0.7147 - val_loss: 1.0942 - val_accuracy: 0.6053\n",
      "Epoch 45/50\n",
      "448/448 [==============================] - 9s 20ms/step - loss: 0.7685 - accuracy: 0.7205 - val_loss: 1.0972 - val_accuracy: 0.6055\n",
      "Epoch 46/50\n",
      "448/448 [==============================] - 9s 20ms/step - loss: 0.7619 - accuracy: 0.7237 - val_loss: 1.0976 - val_accuracy: 0.6066\n",
      "Epoch 47/50\n",
      "448/448 [==============================] - 9s 19ms/step - loss: 0.7521 - accuracy: 0.7270 - val_loss: 1.0998 - val_accuracy: 0.6034\n",
      "Epoch 48/50\n",
      "448/448 [==============================] - 9s 20ms/step - loss: 0.7363 - accuracy: 0.7320 - val_loss: 1.0982 - val_accuracy: 0.6063\n",
      "Epoch 49/50\n",
      "448/448 [==============================] - 9s 20ms/step - loss: 0.7304 - accuracy: 0.7352 - val_loss: 1.0963 - val_accuracy: 0.6057\n",
      "Epoch 50/50\n",
      "448/448 [==============================] - 9s 20ms/step - loss: 0.7226 - accuracy: 0.7385 - val_loss: 1.1012 - val_accuracy: 0.6077\n"
     ]
    }
   ],
   "source": [
    "history = model1.fit(\n",
    "    train_generator,\n",
    "    steps_per_epoch=28709//64,\n",
    "    epochs=50,\n",
    "    validation_data=validation_generator,\n",
    "    validation_steps= 7178// 64\n",
    ")"
   ],
   "metadata": {
    "collapsed": false,
    "pycharm": {
     "name": "#%%\n"
    }
   }
  },
  {
   "cell_type": "code",
   "execution_count": 18,
   "outputs": [
    {
     "data": {
      "text/plain": "<Figure size 640x480 with 1 Axes>",
      "image/png": "[encoded data removed]"
     },
     "metadata": {},
     "output_type": "display_data"
    },
    {
     "data": {
      "text/plain": "<Figure size 640x480 with 1 Axes>",
      "image/png": "[encoded data removed]"
     },
     "metadata": {},
     "output_type": "display_data"
    }
   ],
   "source": [
    "# Plot learning curves\n",
    "import pandas as pd\n",
    "history_frame = pd.DataFrame(history.history)\n",
    "history_frame.loc[:, ['loss', 'val_loss']].plot()\n",
    "history_frame.loc[:, ['accuracy', 'val_accuracy']].plot();"
   ],
   "metadata": {
    "collapsed": false,
    "pycharm": {
     "name": "#%%\n"
    }
   }
  },
  {
   "cell_type": "markdown",
   "source": [
    "## Saving the model"
   ],
   "metadata": {
    "collapsed": false,
    "pycharm": {
     "name": "#%% md\n"
    }
   }
  },
  {
   "cell_type": "code",
   "execution_count": 24,
   "outputs": [],
   "source": [
    "model_json = model1.to_json()\n",
    "with open('data/model.json', 'w') as json_file:\n",
    "    json_file.write(model_json)\n",
    "\n",
    "model1.save_weights('data/model_weights.h5')"
   ],
   "metadata": {
    "collapsed": false,
    "pycharm": {
     "name": "#%%\n"
    }
   }
  }
 ],
 "metadata": {
  "kernelspec": {
   "display_name": "Python 3",
   "language": "python",
   "name": "python3"
  },
  "language_info": {
   "codemirror_mode": {
    "name": "ipython",
    "version": 2
   },
   "file_extension": ".py",
   "mimetype": "text/x-python",
   "name": "python",
   "nbconvert_exporter": "python",
   "pygments_lexer": "ipython2",
   "version": "2.7.6"
  }
 },
 "nbformat": 4,
 "nbformat_minor": 0
}